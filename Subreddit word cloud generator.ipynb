{
 "cells": [
  {
   "cell_type": "code",
   "execution_count": null,
   "id": "4b419d77-d412-445c-85b2-6ef5fb4e2b39",
   "metadata": {},
   "outputs": [],
   "source": [
    "# Some bug fixes and feature tweaks to John Gee's Subreddit word cloud generator\n",
    "# Amy Alexander, March 2024"
   ]
  },
  {
   "cell_type": "code",
   "execution_count": null,
   "id": "47e61180-fd26-4321-9bf8-741befcbf85f",
   "metadata": {
    "tags": []
   },
   "outputs": [],
   "source": [
    "## Imports\n",
    "from PIL import Image\n",
    "import matplotlib.pyplot as plt\n",
    "import praw\n",
    "from wordcloud import WordCloud, STOPWORDS, ImageColorGenerator\n",
    "from nltk.corpus import stopwords, reuters\n",
    "from nltk.tokenize import word_tokenize\n",
    "from nltk.stem import WordNetLemmatizer\n",
    "from wordcloud import WordCloud\n",
    "import os \n",
    "from dotenv import load_dotenv\n",
    "load_dotenv()\n",
    "\n",
    "import re\n",
    "import pandas as pd\n",
    "from collections import Counter\n",
    "\n",
    "# Code to download corpora\n",
    "import nltk\n",
    "nltk.download('stopwords')\n",
    "nltk.download('punkt')\n",
    "nltk.download('wordnet')\n",
    "nltk.download('stopwords')\n",
    "\n",
    "lemmatizer = WordNetLemmatizer()"
   ]
  },
  {
   "cell_type": "code",
   "execution_count": null,
   "id": "28aa4607-dcf8-4620-9462-7d1dd29babe7",
   "metadata": {
    "tags": []
   },
   "outputs": [],
   "source": [
    "## Define function used to clean text data scrapped from a subreddit\n",
    "\n",
    "def process_text(doc):\n",
    "    sw = set(stopwords.words('english'))\n",
    "    regex = re.compile(\"[^a-zA-Z ]\")\n",
    "    re_clean = regex.sub('', doc)\n",
    "    words = word_tokenize(re_clean)\n",
    "    lem = [lemmatizer.lemmatize(word) for word in words]\n",
    "    output = [word.lower() for word in lem if word.lower() not in sw]\n",
    "    return ' '.join(output)"
   ]
  },
  {
   "cell_type": "code",
   "execution_count": null,
   "id": "bc119ca4-29fc-4c5e-8acf-91603e5c0708",
   "metadata": {},
   "outputs": [],
   "source": [
    "## Load env variables. For this script to work, you'll have to have created an agent with reddit. Go to: https://www.reddit.com/prefs/apps, or google how to create a reddit agent\n",
    "## You'll need a client_id, client_secret and a user agent name. Load them up as env variables\n",
    "\n",
    "c_id = os.getenv(\"C_ID\")\n",
    "c_secret = os.getenv(\"C_SECRET\")"
   ]
  },
  {
   "cell_type": "code",
   "execution_count": null,
   "id": "96d7513a-1a95-4d2b-977d-7e9137465cbf",
   "metadata": {
    "tags": []
   },
   "outputs": [],
   "source": [
    "## Create data frame, call reddit function, ping user for subreddit's name and scrap the top 10 post\n",
    "\n",
    "data = []\n",
    "\n",
    "reddit = praw.Reddit(client_id=c_id,client_secret=c_secret,user_agent=\"ENTER USER AGENT NAME\")    \n",
    "\n",
    "subreddit = input('Enter subreddit name:')\n",
    "\n",
    "for submission in reddit.subreddit(subreddit).hot(limit=10):\n",
    "    submission.comments.replace_more(limit=None)\n",
    "    #print(submission.title)\n",
    "    data.append(submission.title)\n",
    "    for top_level_comment in submission.comments:\n",
    "        data.append(top_level_comment.body)"
   ]
  },
  {
   "cell_type": "code",
   "execution_count": null,
   "id": "0c27d731-3cab-4c8e-942f-a04ed4c74e23",
   "metadata": {
    "tags": []
   },
   "outputs": [],
   "source": [
    "## Convert to text, clean data\n",
    "text = str(data)\n",
    "text_cleaned = process_text(text)"
   ]
  },
  {
   "cell_type": "code",
   "execution_count": null,
   "id": "45802b41-2c94-4dc6-a879-683fc01bb35f",
   "metadata": {},
   "outputs": [],
   "source": [
    "## Generate word cloud and save it to the same folder as this script is in. Thank you!! and have fun smiley face\n",
    "\n",
    "# you can also edit the width and height here to create larger images and still preview them smaller inline. consider revising font size proportionally.\n",
    "wc = WordCloud(width=600, height=400, background_color=\"white\", max_words=3500, max_font_size=150, random_state=42)\n",
    "wc.generate(text_cleaned)\n",
    "\n",
    "plt.imshow(wc.recolor(color_func=None),vmin=1000, interpolation=\"bilinear\")\n",
    "plt.figure(figsize=(600,400))\n",
    "wc.to_file('wordcloud.png')"
   ]
  },
  {
   "cell_type": "code",
   "execution_count": null,
   "id": "164d454d-4ec9-453f-aa67-bd7b1683d5e3",
   "metadata": {},
   "outputs": [],
   "source": []
  }
 ],
 "metadata": {
  "interpreter": {
   "hash": "41df92954e601de4cf5069f219cc1089dcf55f1f02f14511041b163ad70515d9"
  },
  "kernelspec": {
   "display_name": "Python 3 (ipykernel)",
   "language": "python",
   "name": "python3"
  },
  "language_info": {
   "codemirror_mode": {
    "name": "ipython",
    "version": 3
   },
   "file_extension": ".py",
   "mimetype": "text/x-python",
   "name": "python",
   "nbconvert_exporter": "python",
   "pygments_lexer": "ipython3",
   "version": "3.12.2"
  }
 },
 "nbformat": 4,
 "nbformat_minor": 5
}
